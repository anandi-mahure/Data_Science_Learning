{
 "cells": [
  {
   "cell_type": "markdown",
   "id": "54e82fc3-10c3-4395-b958-a479d9370174",
   "metadata": {},
   "source": [
    "# 📊 Statistics & Probability for Data Science - A Complete Guide\n",
    "## **Fundamentals, Application**\n"
   ]
  },
  {
   "cell_type": "markdown",
   "id": "3e023f74-9d58-48d5-8f2f-5171df2de220",
   "metadata": {},
   "source": [
    "# Introduction to Statistics \n",
    "## 🔍 What is Statistics?\n",
    "Statistics is the **science of collecting, organizing, analyzing, and interpreting data**.  \n",
    "It plays a crucial role in **machine learning, business analytics, finance, and healthcare**.\n",
    "\n",
    "### 📌 Two Main Branches:\n",
    "1. **Descriptive Statistics** → Summarizing and visualizing data  \n",
    "2. **Inferential Statistics** → Drawing conclusions using probability & hypothesis testing  \n"
   ]
  },
  {
   "cell_type": "markdown",
   "id": "f8d2d15f-18c4-4a48-906d-84649fdf7c2d",
   "metadata": {},
   "source": [
    "## Code Example: Descriptive Statistics"
   ]
  },
  {
   "cell_type": "code",
   "execution_count": 1,
   "id": "d6b9262c-6c52-4013-a7a0-2ef1729b3457",
   "metadata": {},
   "outputs": [
    {
     "name": "stdout",
     "output_type": "stream",
     "text": [
      "Mean: 83.44444444444444, Median: 89.0, Variance: 1336.4691358024693, Std Dev: 36.55775069397007\n"
     ]
    }
   ],
   "source": [
    "import numpy as np\n",
    "import pandas as pd\n",
    "\n",
    "# Sample Data\n",
    "data = [23, 45, 56, 78, 89, 90, 100, 120, 150]\n",
    "\n",
    "# Compute Metrics\n",
    "mean = np.mean(data)\n",
    "median = np.median(data)\n",
    "variance = np.var(data)\n",
    "std_dev = np.std(data)\n",
    "\n",
    "print(f\"Mean: {mean}, Median: {median}, Variance: {variance}, Std Dev: {std_dev}\")\n"
   ]
  },
  {
   "cell_type": "markdown",
   "id": "696f0d7a-5b09-45a6-8bfd-b9eee59bf813",
   "metadata": {},
   "source": [
    "# Probability Theory & Bayes’ Theorem\n",
    "## 🎲 What is Probability?\n",
    "Probability is **the measure of uncertainty in an event occurring**.\n",
    "\n",
    "### 📌 Probability Formula:\n",
    "**P(A) = Favorable Outcomes / Total Outcomes**\n",
    "\n",
    "Example: The probability of rolling a **4** on a six-sided die is:\n",
    "P(4) = 1/6 = 0.1667 (16.67%)\n"
   ]
  },
  {
   "cell_type": "markdown",
   "id": "2c0fe8e6-4e08-4c51-a445-10dcc7be969e",
   "metadata": {},
   "source": [
    "## 📌 Bayes' Theorem\n",
    "\n",
    "Bayes' Theorem describes the probability of an event occurring based on prior knowledge of related conditions.\n",
    "\n",
    "\n",
    "P(A|B) = [P(B|A).P(A)]/P(B)\n",
    "\n",
    "\n",
    "Where:\n",
    "- \\( P(A|B) \\) = Posterior probability (Probability of A given B)\n",
    "- \\( P(B|A) \\) = Likelihood (Probability of B given A)\n",
    "- \\( P(A) \\) = Prior probability (Initial probability of A)\n",
    "- \\( P(B) \\) = Marginal probability (Total probability of B)\n"
   ]
  },
  {
   "cell_type": "code",
   "execution_count": 2,
   "id": "e147b0fe-9919-4069-b286-4b4f36ec40a5",
   "metadata": {},
   "outputs": [
    {
     "name": "stdout",
     "output_type": "stream",
     "text": [
      "Probability of having disease given a positive test: 0.1610\n"
     ]
    }
   ],
   "source": [
    "# Bayes Theorem Example: Disease Diagnosis\n",
    "P_Disease = 0.01  # Prior Probability\n",
    "P_Positive_Given_Disease = 0.95  # Sensitivity\n",
    "P_Positive_Given_NoDisease = 0.05  # False Positive Rate\n",
    "\n",
    "# Bayes Theorem Calculation\n",
    "P_Disease_Given_Positive = (P_Positive_Given_Disease * P_Disease) / (\n",
    "    (P_Positive_Given_Disease * P_Disease) + (P_Positive_Given_NoDisease * (1 - P_Disease))\n",
    ")\n",
    "\n",
    "print(f\"Probability of having disease given a positive test: {P_Disease_Given_Positive:.4f}\")\n"
   ]
  },
  {
   "cell_type": "markdown",
   "id": "a498a210-c461-49de-b4dc-526fa1f87551",
   "metadata": {},
   "source": [
    "# Hypothesis Testing & Confidence Intervals\n",
    "## 🔍 Hypothesis Testing\n",
    "Hypothesis testing is used to **validate assumptions about data**.\n",
    "\n",
    "### 📌 Key Terms:\n",
    "✔ **Null Hypothesis (H₀)** - No significant difference  \n",
    "✔ **Alternative Hypothesis (H₁)** - There is a difference  \n",
    "✔ **p-value** - Probability of getting results as extreme as observed  \n",
    "✔ **Confidence Interval (CI)** - A range where true parameter lies with a given probability  \n"
   ]
  },
  {
   "cell_type": "markdown",
   "id": "063bc0ab-f010-42ae-b8f6-78b190a904c2",
   "metadata": {},
   "source": [
    "## Code Example: Hypothesis Testing"
   ]
  },
  {
   "cell_type": "code",
   "execution_count": 4,
   "id": "a071082f-7ec6-454e-9504-7c84a0578584",
   "metadata": {},
   "outputs": [
    {
     "name": "stdout",
     "output_type": "stream",
     "text": [
      "Fail to Reject Null Hypothesis: No significant difference\n"
     ]
    }
   ],
   "source": [
    "from scipy import stats\n",
    "\n",
    "# Sample Data\n",
    "group1 = [120, 130, 150, 165, 190, 200]\n",
    "group2 = [110, 115, 140, 160, 175, 180]\n",
    "\n",
    "# Perform t-test\n",
    "t_stat, p_value = stats.ttest_ind(group1, group2)\n",
    "\n",
    "# Check significance\n",
    "if p_value < 0.05:\n",
    "    print(\"Reject Null Hypothesis: Significant difference found\")\n",
    "else:\n",
    "    print(\"Fail to Reject Null Hypothesis: No significant difference\")\n"
   ]
  },
  {
   "cell_type": "markdown",
   "id": "96b7aa58-b20f-4889-97e7-0319a980e851",
   "metadata": {},
   "source": [
    "# Decision Theory & Risk Analysis\n",
    "## 🔍 What is Decision Theory?\n",
    "Decision Theory helps in **choosing the best action under uncertainty**.\n",
    "\n",
    "### 📌 Key Concepts:\n",
    "✔ **Bayesian Risk** - Minimizing expected loss  \n",
    "✔ **Action Space** - Set of all possible actions  \n",
    "✔ **Loss Function** - Measures cost of incorrect decisions  \n",
    "\n"
   ]
  },
  {
   "cell_type": "code",
   "execution_count": 6,
   "id": "8522775e-41c9-47a7-9551-92e3105a247f",
   "metadata": {},
   "outputs": [
    {
     "name": "stdout",
     "output_type": "stream",
     "text": [
      "Optimal Decision: Buy Insurance\n"
     ]
    }
   ],
   "source": [
    "# Define Probabilities\n",
    "theta = np.linspace(0, 1, 100)\n",
    "loss_no_insurance = 500 * theta\n",
    "loss_with_insurance = 50 - 500 * theta\n",
    "\n",
    "# Find Risk Threshold\n",
    "optimal_decision = \"Buy Insurance\" if loss_with_insurance.mean() < loss_no_insurance.mean() else \"No Insurance\"\n",
    "print(f\"Optimal Decision: {optimal_decision}\")\n"
   ]
  },
  {
   "cell_type": "markdown",
   "id": "1ea92af0-7cda-4121-9538-25fee7dd53a0",
   "metadata": {},
   "source": [
    "# 📌 Key Statistical Concepts and Applications  \n",
    "\n",
    "- **Type I and Type II Errors**:  \n",
    "  - **Type I Error (False Positive)**: Rejecting a true null hypothesis.  \n",
    "  - **Type II Error (False Negative)**: Failing to reject a false null hypothesis.  \n",
    "\n",
    "- **Central Limit Theorem (CLT)**:  \n",
    "  - The sampling distribution of the sample mean approaches a normal distribution as the sample size increases.  \n",
    "  - Essential for hypothesis testing and confidence intervals.  \n",
    "\n",
    "- **p-value Interpretation**:  \n",
    "  - If **p < 0.05**, reject the null hypothesis (**statistically significant**).  \n",
    "  - If **p > 0.05**, fail to reject the null hypothesis (**not enough evidence to support the alternative hypothesis**).  \n",
    "\n",
    "- **Law of Large Numbers**:  \n",
    "  - As the sample size increases, the sample mean gets closer to the true population mean.  \n",
    "  - Helps justify why larger samples yield more accurate estimates.  \n",
    "\n",
    "- **Confidence Intervals**:  \n",
    "  - A **95% confidence interval** means that if we take 100 random samples, about **95 of them will contain the true population parameter**.  \n",
    "  - Used to quantify uncertainty in estimates.  \n",
    "\n",
    "- **t-test vs. z-test**:  \n",
    "  - **t-test**: Used when the **sample size < 30** or when the **population variance is unknown**.  \n",
    "  - **z-test**: Used when the **sample size ≥ 30** and **population variance is known**.  \n",
    "\n",
    "- **Likelihood Function**:  \n",
    "  - Measures the probability of observing data given a set of parameters.  \n",
    "  - Used in **Maximum Likelihood Estimation (MLE)** to determine model parameters.  \n",
    "\n",
    "- **Correlation vs. Causation**:  \n",
    "  - **Correlation**: Two variables move together, but one does not necessarily cause the other.  \n",
    "  - **Causation**: A change in one variable directly influences another.  \n",
    "\n",
    "- **Parametric vs. Non-Parametric Tests**:  \n",
    "  - **Parametric Tests**: Assume a normal distribution (e.g., **t-test, ANOVA**).  \n",
    "  - **Non-Parametric Tests**: Do not assume any distribution (e.g., **Wilcoxon test, Kruskal-Wallis test**).  \n",
    "\n",
    "- **Bayes’ Theorem & Applications**:  \n",
    "  - Formula:  \n",
    "   \n",
    "    P(A|B) = {P(B|A).P(A)}/{P(B)}\n",
    "   \n",
    "  - **Spam Detection**: Given an email contains certain words (e.g., \"discount\"), Bayes’ Theorem helps determine the probability that the email is spam.  \n",
    "  - **Medical Diagnosis**: Used to calculate the probability that a patient has a disease given a positive test result.  \n",
    "\n",
    "These statistical concepts are fundamental for understanding data patterns, making predictions, and validating results in **data science, AI, finance, and healthcare applications**.\n"
   ]
  },
  {
   "cell_type": "code",
   "execution_count": null,
   "id": "ab0615dc-bb11-4190-acf5-217648f93dc6",
   "metadata": {},
   "outputs": [],
   "source": []
  }
 ],
 "metadata": {
  "kernelspec": {
   "display_name": "Python 3 (ipykernel)",
   "language": "python",
   "name": "python3"
  },
  "language_info": {
   "codemirror_mode": {
    "name": "ipython",
    "version": 3
   },
   "file_extension": ".py",
   "mimetype": "text/x-python",
   "name": "python",
   "nbconvert_exporter": "python",
   "pygments_lexer": "ipython3",
   "version": "3.11.5"
  }
 },
 "nbformat": 4,
 "nbformat_minor": 5
}
