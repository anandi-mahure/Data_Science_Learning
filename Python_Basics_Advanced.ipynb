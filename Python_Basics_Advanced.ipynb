{
 "cells": [
  {
   "cell_type": "markdown",
   "id": "defd736d-5cda-4294-bb5e-c110433fe15d",
   "metadata": {},
   "source": [
    "# 🐍 Python for Data Science - A Deep Dive\n",
    "### **Understanding Python’s Core Concepts for AI & Machine Learning**\n"
   ]
  },
  {
   "cell_type": "markdown",
   "id": "6e60bf08-451d-4486-a345-5380af235297",
   "metadata": {},
   "source": [
    "### 📌 Table of Contents\n",
    "1. [Introduction to Python](#introduction)\n",
    "2. [Python Data Structures](#data-structures)\n",
    "    - [Lists](#lists)\n",
    "    - [Tuples](#tuples)\n",
    "    - [Dictionaries](#dictionaries)\n",
    "    - [Sets](#sets)\n",
    "3. [Functions & Functional Programming](#functions)\n",
    "4. [NumPy for Efficient Computation](#numpy)\n",
    "5. [Pandas for Data Analysis](#pandas)\n",
    "6. [Object-Oriented Programming (OOP)](#oop)\n",
    "7. [Final Comprehensive Project](#project)\n"
   ]
  },
  {
   "cell_type": "markdown",
   "id": "7aa20fc0-4951-457d-9ee3-5afe64870fb0",
   "metadata": {},
   "source": [
    "## 📌 📂 1️⃣ Introduction to Python\n",
    "\n",
    "\n",
    "### **What is Python?**\n",
    "Python is a **general-purpose, high-level programming language** that is widely used in **Data Science, Machine Learning, and AI**.  \n",
    "It was created by **Guido van Rossum** in 1991 and emphasizes **code readability and simplicity**.\n",
    "\n",
    "---\n",
    "\n",
    "### **Why is Python Used in Data Science?**\n",
    "Python dominates **Data Science, Machine Learning, and AI** for the following reasons:\n",
    "\n",
    "🔹 **Simple & Readable Syntax** – Python has an intuitive, **English-like syntax**, making it easy for beginners to learn and implement complex algorithms.  \n",
    "🔹 **Rich Ecosystem of Libraries** – Python provides **powerful libraries** like NumPy, Pandas, Scikit-Learn, TensorFlow, and PyTorch, which simplify data handling and machine learning implementation.  \n",
    "🔹 **Scalability & High Performance** – Python’s ability to handle **large-scale data processing and deep learning** makes it ideal for **big data analytics and AI applications**.  \n",
    "🔹 **Strong Community Support** – Python has one of the largest **open-source communities**, making it easy to find solutions, tutorials, and pre-built models.  \n",
    "🔹 **Versatility Across Domains** – Python is used in **Finance, Healthcare, Robotics, NLP, Computer Vision, and more**.\n",
    "\n",
    "---\n",
    "\n",
    "### 📌 **Python vs. Other Languages for Data Science**\n",
    "| Feature                        | Python  | R        | Java     | C++        |\n",
    "|--------------------------------|---------|----------|----------|------------|\n",
    "| **Ease of Learning**           | ✅ Easy | Moderate | Difficult | Very Difficult |\n",
    "| **Library Support**            | ✅ Extensive | Moderate | Limited | Limited |\n",
    "| **Performance**                | ✅ Optimized | Moderate | High | Very High |\n",
    "| **Machine Learning Support**   | ✅ Excellent | Limited | Basic | Basic |\n",
    "\n",
    "---\n",
    "\n",
    "\n"
   ]
  },
  {
   "cell_type": "markdown",
   "id": "7bb593fe-7ce2-4fd0-bd60-837be4366c62",
   "metadata": {},
   "source": [
    "Python in Data Science: Code Example"
   ]
  },
  {
   "cell_type": "code",
   "execution_count": 1,
   "id": "c4a099d8-565b-454a-9f4c-ab186408385e",
   "metadata": {},
   "outputs": [
    {
     "name": "stdout",
     "output_type": "stream",
     "text": [
      "My name is Anandi and I am 25 years old.\n",
      "[1, 4, 9, 16, 25]\n"
     ]
    }
   ],
   "source": [
    "# Python's Simplicity: Creating a Variable\n",
    "name = \"Anandi\"\n",
    "age = 25\n",
    "print(f\"My name is {name} and I am {age} years old.\")\n",
    "\n",
    "# List Comprehensions: Efficient Iteration\n",
    "numbers = [1, 2, 3, 4, 5]\n",
    "squared = [x ** 2 for x in numbers]\n",
    "print(squared)  \n"
   ]
  },
  {
   "cell_type": "markdown",
   "id": "cafc0981-3a14-415a-a5e9-3e54631d2777",
   "metadata": {},
   "source": [
    "# 📂 2️⃣ Python Data Structures\n",
    "\n",
    "\n",
    "Data structures define **how information is stored, accessed, and manipulated**.  \n",
    "Choosing the right data structure **improves efficiency**, making programs run faster and consume less memory.\n",
    "\n",
    "---\n",
    "\n",
    "## **📌 Why Are Data Structures Important in Data Science?**\n",
    "✔ **Efficient Data Processing** – Handling large datasets efficiently is crucial for AI models.  \n",
    "✔ **Faster Lookups & Computations** – Reducing processing time enhances machine learning model performance.  \n",
    "✔ **Memory Optimization** – Using the right structure prevents memory wastage, improving scalability.  \n",
    "✔ **Data Integrity & Consistency** – Ensures structured data representation for ML models.  \n",
    "\n",
    "---\n",
    "\n",
    "## 📌 Common Data Structures in Python\n",
    "\n",
    "✔ **Lists** – Ordered, Mutable (used for storing multiple values).  \n",
    "✔ **Tuples** – Ordered, Immutable (used for fixed values).  \n",
    "✔ **Dictionaries** – Key-value pairs, Fast lookups (used in ML model metadata).  \n",
    "✔ **Sets** – Unordered, Unique Elements (used for filtering unique categories).  \n",
    "\n",
    "---\n",
    "\n",
    "## **📌 Time Complexity of Data Structures**\n",
    "Understanding **Big-O Notation** helps in optimizing algorithms.\n",
    "\n",
    "| Operation | List | Tuple | Dictionary | Set |\n",
    "|-----------|------|-------|------------|-----|\n",
    "| **Access (`O(1)`)** | ✅ Fast | ✅ Fast | ✅ Fast | ❌ Not Applicable |\n",
    "| **Search (`O(n)`)** | 🔴 Slow | 🔴 Slow | ✅ Fast (`O(1)`) | ✅ Fast (`O(1)`) |\n",
    "| **Insertion (`O(1)`)** | ✅ Fast | ❌ Not Possible | ✅ Fast (`O(1)`) | ✅ Fast (`O(1)`) |\n",
    "| **Deletion (`O(n)`)** | 🔴 Slow | ❌ Not Possible | ✅ Fast (`O(1)`) | ✅ Fast (`O(1)`) |\n",
    "\n",
    "📌 **Key Takeaways**:\n",
    "- **Dictionaries & Sets** → Fastest for lookups because they use **hash tables**.\n",
    "- **Lists & Tuples** → Good for ordered collections but **slower for searches**.\n",
    "- **Tuples** → Cannot be modified, making them useful for **constant values**.\n",
    "\n",
    "---\n",
    "\n",
    "## **📌 When to Use Each Data Structure in Data Science?**\n",
    "✅ **Lists** → When storing **dataset rows**, like individual user data points.  \n",
    "✅ **Tuples** → When defining **fixed values** like **hyperparameters** in ML models.  \n",
    "✅ **Dictionaries** → When working with **key-value pairs**, like **mapping feature names to values**.  \n",
    "✅ **Sets** → When **removing duplicate values** from a dataset.  \n",
    "\n",
    "---\n",
    "\n"
   ]
  },
  {
   "cell_type": "markdown",
   "id": "7f69fb4d-b92b-4cca-8d68-64dc758f9241",
   "metadata": {},
   "source": [
    "Lists: Ordered, Mutable Data Structure"
   ]
  },
  {
   "cell_type": "code",
   "execution_count": 2,
   "id": "f51ba8a2-11a3-44eb-a453-f37149bbe30a",
   "metadata": {},
   "outputs": [
    {
     "name": "stdout",
     "output_type": "stream",
     "text": [
      "['apple', 'banana', 'cherry']\n",
      "apple\n",
      "['apple', 'banana', 'cherry', 'orange']\n"
     ]
    }
   ],
   "source": [
    "# Creating a List\n",
    "fruits = [\"apple\", \"banana\", \"cherry\"]\n",
    "print(fruits)\n",
    "\n",
    "# Accessing Elements\n",
    "print(fruits[0])  \n",
    "\n",
    "# Modifying Elements\n",
    "fruits.append(\"orange\")\n",
    "print(fruits)  "
   ]
  },
  {
   "cell_type": "markdown",
   "id": "5708f2ab-4dfb-43e3-8d4f-b1b74051eca2",
   "metadata": {},
   "source": [
    "# 📌📂3️⃣ Functions & Functional Programming - Deep Dive\n",
    "\n",
    "## 📌 Theoretical Explanation\n",
    "\n",
    "### 🔹 What are Functions?\n",
    "Functions in Python are **self-contained blocks of code** that perform a specific task. They improve **code organization, reusability, and modularity**.\n",
    "\n",
    "In **Data Science & Machine Learning**, functions are used for:\n",
    "✔ **Data preprocessing** (cleaning, transforming, encoding)  \n",
    "✔ **Feature engineering** (creating new features, scaling)  \n",
    "✔ **Model evaluation** (performance metrics)  \n",
    "✔ **Automating repetitive tasks**  \n",
    "\n",
    "---\n",
    "\n",
    "### 🔹 Why Use Functions in Data Science?\n",
    "✔ **Code Reusability** → Write once, use multiple times  \n",
    "✔ **Improved Readability** → Code becomes easier to manage  \n",
    "✔ **Abstraction** → Complex logic is hidden inside functions  \n",
    "✔ **Performance Optimization** → Reduces redundant execution  \n",
    "\n",
    "---\n",
    "\n",
    "## 📌 3.1 Defining & Calling Functions in Python\n",
    "\n",
    "A function definition consists of:\n",
    "\n",
    "- `def` → Keyword to define a function  \n",
    "- **Function Name** → The name of the function  \n",
    "- **Parameters (optional)** → Inputs required for the function  \n",
    "- **A return statement (optional)** → Defines the function output  "
   ]
  },
  {
   "cell_type": "code",
   "execution_count": 3,
   "id": "f3d08568-7439-46d7-adae-640b50d4981d",
   "metadata": {},
   "outputs": [
    {
     "name": "stdout",
     "output_type": "stream",
     "text": [
      "The square of 5 is: 25\n"
     ]
    }
   ],
   "source": [
    "# Function to calculate the square of a number\n",
    "def square(num):\n",
    "    return num ** 2\n",
    "\n",
    "# Calling the function\n",
    "result = square(5)\n",
    "print(f\"The square of 5 is: {result}\")\n"
   ]
  },
  {
   "cell_type": "markdown",
   "id": "1c8538ce-af23-4463-9ff0-c400c91955a5",
   "metadata": {},
   "source": [
    "📌 Explanation:\n",
    "\n",
    "square(num) → Defines a function that takes num as an argument.\n",
    "return num ** 2 → Computes the square of the number.\n",
    "square(5) → Calls the function with 5 as input."
   ]
  },
  {
   "cell_type": "markdown",
   "id": "10c0c17e-d8de-4ddf-b800-5b2e7493f474",
   "metadata": {},
   "source": [
    "## 📌 3.2 Function Parameters & Default Arguments\n",
    "\n",
    "Functions can have:  \n",
    "✔ **Positional Arguments** → Order matters  \n",
    "✔ **Keyword Arguments** → Named arguments for better clarity  \n",
    "✔ **Default Arguments** → Provide default values  \n",
    "✔ **Variable-Length Arguments** → `*args` and `**kwargs`  \n"
   ]
  },
  {
   "cell_type": "code",
   "execution_count": 4,
   "id": "f275dcf5-d1f5-49df-8843-3efc9bc86bb3",
   "metadata": {},
   "outputs": [
    {
     "name": "stdout",
     "output_type": "stream",
     "text": [
      "Hello, Anandi!\n",
      "Hello, User!\n"
     ]
    }
   ],
   "source": [
    "# Function with default argument\n",
    "def greet(name=\"User\"):\n",
    "    print(f\"Hello, {name}!\")\n",
    "\n",
    "greet(\"Anandi\")  \n",
    "greet() \n"
   ]
  },
  {
   "cell_type": "markdown",
   "id": "aca46897-e274-4a07-8fd0-ce497c64d01e",
   "metadata": {},
   "source": [
    "📌 **Explanation:**\n",
    "- `name=\"User\"` → Sets a **default value** for the parameter.  \n",
    "- If no argument is provided, it defaults to `\"User\"`.  \n",
    "\n",
    "---"
   ]
  },
  {
   "cell_type": "markdown",
   "id": "1092b27e-65a2-4d35-a8d0-2bcd21a59130",
   "metadata": {},
   "source": [
    "## 📌 3.3 Returning Multiple Values\n",
    "\n",
    "Python allows returning **multiple values** as a **tuple**.\n",
    "\n"
   ]
  },
  {
   "cell_type": "code",
   "execution_count": 5,
   "id": "65cb4205-d986-4fd2-ad7d-b540eadd8fa0",
   "metadata": {},
   "outputs": [
    {
     "name": "stdout",
     "output_type": "stream",
     "text": [
      "Sum: 8, Product: 15\n"
     ]
    }
   ],
   "source": [
    "# Function returning multiple values\n",
    "def math_operations(a, b):\n",
    "    sum_result = a + b\n",
    "    product = a * b\n",
    "    return sum_result, product\n",
    "\n",
    "# Calling the function\n",
    "sum_result, product_result = math_operations(5, 3)\n",
    "print(f\"Sum: {sum_result}, Product: {product_result}\")\n"
   ]
  },
  {
   "cell_type": "markdown",
   "id": "3011d3db-c42a-4800-ab0a-e872589665d9",
   "metadata": {},
   "source": [
    "📌 **Explanation:**\n",
    "- The function **returns multiple values** as a tuple.  \n",
    "- The values are **unpacked** when calling the function.  \n",
    "\n",
    "---"
   ]
  },
  {
   "cell_type": "markdown",
   "id": "3c8f53a7-0832-449f-80b5-b2d909b4dafb",
   "metadata": {},
   "source": [
    "## 📌 3.4 Higher-Order Functions (Functional Programming)\n",
    "\n",
    "A **higher-order function** is a function that:  \n",
    "✔ **Takes another function as an argument**  \n",
    "✔ **Returns a function as a result**  \n",
    "\n",
    "📌 **Examples of Higher-Order Functions in Data Science:**  \n",
    "✔ `map()` → Applies a function to each element in a sequence  \n",
    "✔ `filter()` → Filters elements based on a condition  \n",
    "✔ `reduce()` → Performs cumulative operations  \n",
    "\n",
    "---\n",
    "\n",
    "## 📌 3.4.1 Using `map()`\n",
    "\n",
    "### 📜 Theoretical Explanation  \n",
    "The `map()` function **applies a function** to each item in an iterable (e.g., list).\n"
   ]
  },
  {
   "cell_type": "code",
   "execution_count": 6,
   "id": "f3f74750-a9b3-4c32-885e-009dba36fbd9",
   "metadata": {},
   "outputs": [
    {
     "name": "stdout",
     "output_type": "stream",
     "text": [
      "[1, 4, 9, 16, 25]\n"
     ]
    }
   ],
   "source": [
    "numbers = [1, 2, 3, 4, 5]\n",
    "\n",
    "# Using map() with a function\n",
    "def square(num):\n",
    "    return num ** 2\n",
    "\n",
    "squared_numbers = list(map(square, numbers))\n",
    "print(squared_numbers) \n"
   ]
  },
  {
   "cell_type": "markdown",
   "id": "f429370e-df3b-4c04-8bb6-7faa160f883b",
   "metadata": {},
   "source": [
    "📌 **Explanation:**  \n",
    "- `map(square, numbers)` → Applies `square()` function to every element in `numbers`.  \n",
    "\n",
    "---"
   ]
  },
  {
   "cell_type": "markdown",
   "id": "2cafa35e-f527-4793-9acd-7c438c443d08",
   "metadata": {},
   "source": [
    "## 📌 3.4.2 Using `filter()`\n",
    "\n",
    "### 📜 Theoretical Explanation  \n",
    "The `filter()` function **filters elements** from an iterable based on a condition.\n",
    "\n"
   ]
  },
  {
   "cell_type": "code",
   "execution_count": 7,
   "id": "6ee69b25-ed04-49f3-9e9a-102ab697bb64",
   "metadata": {},
   "outputs": [
    {
     "name": "stdout",
     "output_type": "stream",
     "text": [
      "[2, 4, 6, 8, 10]\n"
     ]
    }
   ],
   "source": [
    "numbers = [1, 2, 3, 4, 5, 6, 7, 8, 9, 10]\n",
    "\n",
    "# Using filter() to get even numbers\n",
    "even_numbers = list(filter(lambda x: x % 2 == 0, numbers))\n",
    "print(even_numbers)  "
   ]
  },
  {
   "cell_type": "markdown",
   "id": "604b257d-a550-4e78-a6e1-3b3a52fb13a4",
   "metadata": {},
   "source": [
    "📌 **Explanation:**  \n",
    "- `lambda x: x % 2 == 0` → Defines a **lambda function** to check if a number is even.  \n",
    "- `filter()` **filters elements that satisfy the condition**.  \n",
    "\n",
    "---"
   ]
  },
  {
   "cell_type": "markdown",
   "id": "c1092288-0431-4790-b5e9-7dc783cdb0fd",
   "metadata": {},
   "source": [
    "## 📌 3.4.3 Using `reduce()`\n",
    "\n",
    "### 📜 Theoretical Explanation  \n",
    "The `reduce()` function performs **cumulative** operations over elements.\n",
    "\n"
   ]
  },
  {
   "cell_type": "code",
   "execution_count": 8,
   "id": "59ca3ff4-309a-45d3-9781-1436e279910c",
   "metadata": {},
   "outputs": [
    {
     "name": "stdout",
     "output_type": "stream",
     "text": [
      "120\n"
     ]
    }
   ],
   "source": [
    "from functools import reduce\n",
    "\n",
    "numbers = [1, 2, 3, 4, 5]\n",
    "\n",
    "# Using reduce() to find the product of numbers\n",
    "product = reduce(lambda x, y: x * y, numbers)\n",
    "print(product) \n"
   ]
  },
  {
   "cell_type": "markdown",
   "id": "b7a28914-4f0c-4929-b3fb-6d1a713cae9e",
   "metadata": {},
   "source": [
    "📌 **Explanation:**  \n",
    "- `reduce(lambda x, y: x * y, numbers)` → **Multiplies all numbers together**.  \n",
    "\n",
    "---\n"
   ]
  },
  {
   "cell_type": "markdown",
   "id": "9eaa2777-e2a7-44e2-b503-107f3eb93981",
   "metadata": {},
   "source": [
    "## 📌 3.5 Anonymous Functions (Lambda)\n",
    "\n",
    "### 📜 Theoretical Explanation  \n",
    "✔ **Lambda functions** are one-line anonymous functions.  \n",
    "✔ Useful in **functional programming** for short, simple operations.  \n",
    "\n",
    "📌 **Why Use Lambda?**  \n",
    "✔ Saves space for **small one-time-use functions**.  \n",
    "✔ Can be used **inside map(), filter(), and reduce()**.  "
   ]
  },
  {
   "cell_type": "code",
   "execution_count": 9,
   "id": "b9ab1e0e-0633-41b8-baa6-b7a6f523d9b8",
   "metadata": {},
   "outputs": [
    {
     "name": "stdout",
     "output_type": "stream",
     "text": [
      "25\n"
     ]
    }
   ],
   "source": [
    "# Lambda function to square a number\n",
    "square = lambda x: x ** 2\n",
    "print(square(5))\n"
   ]
  },
  {
   "cell_type": "markdown",
   "id": "4c4a6460-fe7f-48d2-8715-167e2826040c",
   "metadata": {},
   "source": [
    "# 📌📂4️⃣ NumPy for Efficient Computation (In-Depth Explanation & Code)\n",
    "\n",
    "## 📌 Theoretical Explanation\n",
    "\n",
    "### 🔹 Why NumPy?\n",
    "NumPy (**Numerical Python**) is the foundation of numerical computing in Python. It provides:\n",
    "\n",
    "✔ **High-performance array operations** – Faster than Python lists  \n",
    "✔ **Efficient Memory Management** – Uses contiguous memory blocks  \n",
    "✔ **Vectorized Computations** – Eliminates explicit loops for numerical operations  \n",
    "✔ **Essential for Machine Learning & AI** – Used in deep learning frameworks like **TensorFlow, PyTorch**  \n",
    "\n",
    "---\n",
    "\n",
    "### 🔹 Python Lists vs NumPy Arrays\n",
    "Python lists are **dynamic** and support heterogeneous data, but they **lack efficiency** when handling large datasets.  \n",
    "\n",
    "NumPy arrays (**ndarrays**) provide:  \n",
    "\n",
    "✔ **Faster computations** – Operations on large datasets are significantly faster  \n",
    "✔ **Fixed-size storage** – Reduces memory overhead  \n",
    "✔ **Built-in mathematical functions** – Eliminates the need for loops  \n",
    "\n",
    "---\n",
    "\n",
    "## 📌 Performance Comparison: Python Lists vs NumPy Arrays4️⃣ NumPy for Efficient Computation \n",
    "\n",
    "### 🔹 Why NumPy?\n",
    "NumPy (**Numerical Python**) is the foundation of numerical computing in Python. It provides:\n",
    "\n",
    "✔ **High-performance array operations** – Faster than Python lists  \n",
    "✔ **Efficient Memory Management** – Uses contiguous memory blocks  \n",
    "✔ **Vectorized Computations** – Eliminates explicit loops for numerical operations  \n",
    "✔ **Essential for Machine Learning & AI** – Used in deep learning frameworks like **TensorFlow, PyTorch**  \n",
    "\n",
    "---\n",
    "\n",
    "### 🔹 Python Lists vs NumPy Arrays\n",
    "Python lists are **dynamic** and support heterogeneous data, but they **lack efficiency** when handling large datasets.  \n",
    "\n",
    "NumPy arrays (**ndarrays**) provide:  \n",
    "\n",
    "✔ **Faster computations** – Operations on large datasets are significantly faster  \n",
    "✔ **Fixed-size storage** – Reduces memory overhead  \n",
    "✔ **Built-in mathematical functions** – Eliminates the need for loops  \n",
    "\n",
    "---\n",
    "\n",
    "## 📌 Performance Comparison: Python Lists vs NumPy Arrays\n"
   ]
  },
  {
   "cell_type": "code",
   "execution_count": 10,
   "id": "7b19871e-75fc-4674-b5da-4b44158ad95e",
   "metadata": {},
   "outputs": [
    {
     "name": "stdout",
     "output_type": "stream",
     "text": [
      "Python List Execution Time: 0.04374 seconds\n",
      "NumPy Execution Time: 0.00286 seconds\n"
     ]
    }
   ],
   "source": [
    "import numpy as np\n",
    "import time\n",
    "\n",
    "# Creating large dataset\n",
    "size = 1_000_000  # 1 million elements\n",
    "\n",
    "# Python List Squaring (Slow)\n",
    "python_list = list(range(size))\n",
    "start = time.time()\n",
    "squared_list = [x**2 for x in python_list]\n",
    "end = time.time()\n",
    "print(f\"Python List Execution Time: {end - start:.5f} seconds\")\n",
    "\n",
    "# NumPy Array Squaring (Fast)\n",
    "numpy_array = np.array(python_list)\n",
    "start = time.time()\n",
    "squared_numpy = numpy_array**2\n",
    "end = time.time()\n",
    "print(f\"NumPy Execution Time: {end - start:.5f} seconds\")\n"
   ]
  },
  {
   "cell_type": "markdown",
   "id": "d9d0cbd9-0bb6-45bb-8702-811556a12bf4",
   "metadata": {},
   "source": [
    "🔹 NumPy Memory Efficiency\n",
    "\n",
    "NumPy stores elements in contiguous memory locations which: \n",
    "\n",
    "✔ Reduces overhead compared to Python lists\n",
    "\n",
    "✔ Allows fast retrieval and modification of elements\n",
    "\n",
    "✔ Optimizes vectorized operations for large datasets\n",
    "\n",
    "\n",
    "📌 Memory Usage Comparison: Python List vs NumPy Array"
   ]
  },
  {
   "cell_type": "code",
   "execution_count": 11,
   "id": "dcd17924-dd52-4fa2-8e76-22502ab67f6f",
   "metadata": {},
   "outputs": [
    {
     "name": "stdout",
     "output_type": "stream",
     "text": [
      "Python List Memory: 8000056 bytes\n",
      "NumPy Array Memory: 8000000 bytes\n"
     ]
    }
   ],
   "source": [
    "import sys\n",
    "\n",
    "size = 1_000_000  # 1 million elements\n",
    "\n",
    "# Python List Memory Consumption\n",
    "python_list = list(range(size))\n",
    "print(f\"Python List Memory: {sys.getsizeof(python_list)} bytes\")\n",
    "\n",
    "# NumPy Array Memory Consumption\n",
    "numpy_array = np.array(python_list)\n",
    "print(f\"NumPy Array Memory: {numpy_array.nbytes} bytes\")\n"
   ]
  },
  {
   "cell_type": "markdown",
   "id": "8d9578cd-b6b1-425c-a354-b342cdfab070",
   "metadata": {},
   "source": [
    "📌 Core NumPy Functionalities\n",
    "\n",
    "🔹 1. Creating NumPy Arrays\n",
    "NumPy arrays can be created from Python lists, tuples, or using built-in functions.\n",
    "\n",
    "📌 Basic Array Creation"
   ]
  },
  {
   "cell_type": "code",
   "execution_count": 12,
   "id": "455d1178-38ef-44b4-ac35-535ad21617c6",
   "metadata": {},
   "outputs": [
    {
     "name": "stdout",
     "output_type": "stream",
     "text": [
      "1D Array: [1 2 3 4 5]\n",
      "2D Array:\n",
      "[[1 2 3]\n",
      " [4 5 6]]\n",
      "Zeros Array:\n",
      "[[0. 0. 0.]\n",
      " [0. 0. 0.]\n",
      " [0. 0. 0.]]\n",
      "Ones Array:\n",
      "[[1. 1. 1. 1.]\n",
      " [1. 1. 1. 1.]]\n",
      "Random Values:\n",
      "[[0.19338469 0.03162071 0.25292853]\n",
      " [0.49780889 0.77452738 0.04345748]\n",
      " [0.57514902 0.69366269 0.10075391]]\n"
     ]
    }
   ],
   "source": [
    "import numpy as np\n",
    "\n",
    "# Creating Arrays from Python Lists\n",
    "arr1 = np.array([1, 2, 3, 4, 5])\n",
    "arr2 = np.array([[1, 2, 3], [4, 5, 6]])  # 2D Array\n",
    "\n",
    "# Creating Arrays using NumPy Functions\n",
    "zeros = np.zeros((3, 3))  # 3x3 array of zeros\n",
    "ones = np.ones((2, 4))  # 2x4 array of ones\n",
    "random_values = np.random.rand(3, 3)  # 3x3 array of random values\n",
    "\n",
    "print(f\"1D Array: {arr1}\")\n",
    "print(f\"2D Array:\\n{arr2}\")\n",
    "print(f\"Zeros Array:\\n{zeros}\")\n",
    "print(f\"Ones Array:\\n{ones}\")\n",
    "print(f\"Random Values:\\n{random_values}\")\n"
   ]
  },
  {
   "cell_type": "markdown",
   "id": "3a0d0e69-15f7-4136-8f9c-b46fd896b3e7",
   "metadata": {},
   "source": [
    "\n",
    "🔹 2. NumPy Array Indexing & Slicing\n",
    "\n",
    "NumPy provides efficient indexing mechanisms to access, modify, and slice arrays.\n",
    "\n",
    "📌 Indexing & Slicing Examples"
   ]
  },
  {
   "cell_type": "code",
   "execution_count": 13,
   "id": "313d28b3-7865-467a-9b2d-c726b5875936",
   "metadata": {},
   "outputs": [
    {
     "name": "stdout",
     "output_type": "stream",
     "text": [
      "10\n",
      "50\n",
      "[20 30 40]\n",
      "[10 20 30]\n",
      "[100  20  30  40  50]\n"
     ]
    }
   ],
   "source": [
    "import numpy as np\n",
    "\n",
    "# Creating a 1D NumPy array\n",
    "arr = np.array([10, 20, 30, 40, 50])\n",
    "\n",
    "# Accessing elements\n",
    "print(arr[0])  \n",
    "print(arr[-1])  \n",
    "\n",
    "# Slicing the array\n",
    "print(arr[1:4])  \n",
    "print(arr[:3])   \n",
    "\n",
    "# Modifying elements\n",
    "arr[0] = 100\n",
    "print(arr)  \n"
   ]
  },
  {
   "cell_type": "markdown",
   "id": "56dc6791-2e87-43e7-be5b-d79af6b5ba90",
   "metadata": {},
   "source": [
    "📌 Slicing in Multi-Dimensional Arrays"
   ]
  },
  {
   "cell_type": "code",
   "execution_count": 14,
   "id": "9f117d4a-d251-4452-a405-8c3ee50201c0",
   "metadata": {},
   "outputs": [
    {
     "name": "stdout",
     "output_type": "stream",
     "text": [
      "1\n",
      "6\n",
      "[1 2 3]\n",
      "[2 5 8]\n"
     ]
    }
   ],
   "source": [
    "import numpy as np\n",
    "\n",
    "# Creating a 2D array\n",
    "matrix = np.array([[1, 2, 3], [4, 5, 6], [7, 8, 9]])\n",
    "\n",
    "# Accessing elements\n",
    "print(matrix[0, 0])  \n",
    "print(matrix[1, 2]) \n",
    "\n",
    "# Slicing rows and columns\n",
    "print(matrix[0, :])  \n",
    "print(matrix[:, 1]) \n"
   ]
  },
  {
   "cell_type": "markdown",
   "id": "9572cbab-793b-4342-9e8e-6d7cce77ae47",
   "metadata": {},
   "source": [
    "🔹 3. NumPy Mathematical Operations\n",
    "\n",
    "NumPy provides optimized mathematical operations that work on entire arrays.\n",
    "\n",
    "📌 Element-wise Mathematical Operations"
   ]
  },
  {
   "cell_type": "code",
   "execution_count": 15,
   "id": "be4432e4-f855-4367-8e91-686aad1be125",
   "metadata": {},
   "outputs": [
    {
     "name": "stdout",
     "output_type": "stream",
     "text": [
      "[11 22 33 44 55]\n",
      "[ 2  4  6  8 10]\n",
      "[ 1  4  9 16 25]\n"
     ]
    }
   ],
   "source": [
    "import numpy as np\n",
    "\n",
    "# Creating Arrays\n",
    "arr1 = np.array([1, 2, 3, 4, 5])\n",
    "arr2 = np.array([10, 20, 30, 40, 50])\n",
    "\n",
    "# Arithmetic Operations\n",
    "print(arr1 + arr2)  \n",
    "print(arr1 * 2)  \n",
    "print(arr1 ** 2)  \n"
   ]
  },
  {
   "cell_type": "markdown",
   "id": "eb79865d-acf3-4bd8-b36c-0cabe974e97e",
   "metadata": {},
   "source": [
    "📌 Matrix Operations"
   ]
  },
  {
   "cell_type": "code",
   "execution_count": 16,
   "id": "cc67e230-60c4-4d61-85a7-c8c3e177b395",
   "metadata": {},
   "outputs": [
    {
     "name": "stdout",
     "output_type": "stream",
     "text": [
      "Matrix Multiplication:\n",
      "[[19 22]\n",
      " [43 50]]\n"
     ]
    }
   ],
   "source": [
    "import numpy as np\n",
    "\n",
    "# Creating Matrices\n",
    "matrix1 = np.array([[1, 2], [3, 4]])\n",
    "matrix2 = np.array([[5, 6], [7, 8]])\n",
    "\n",
    "# Matrix Multiplication\n",
    "dot_product = np.dot(matrix1, matrix2)\n",
    "print(f\"Matrix Multiplication:\\n{dot_product}\")\n"
   ]
  },
  {
   "cell_type": "markdown",
   "id": "92667032-79cd-481d-b6c2-dc652b0dcd7d",
   "metadata": {},
   "source": [
    "4. NumPy Statistics & Aggregations\n",
    "\n",
    "NumPy provides built-in functions for statistical analysis."
   ]
  },
  {
   "cell_type": "code",
   "execution_count": 17,
   "id": "2aeb7280-9775-40a1-80ef-d67f1c941084",
   "metadata": {},
   "outputs": [
    {
     "name": "stdout",
     "output_type": "stream",
     "text": [
      "Mean: 30.0\n",
      "Median: 30.0\n",
      "Standard Deviation: 14.142135623730951\n",
      "Sum: 150\n",
      "Min: 10, Max: 50\n"
     ]
    }
   ],
   "source": [
    "import numpy as np\n",
    "\n",
    "arr = np.array([10, 20, 30, 40, 50])\n",
    "\n",
    "print(f\"Mean: {np.mean(arr)}\")  # Average value\n",
    "print(f\"Median: {np.median(arr)}\")  # Middle value\n",
    "print(f\"Standard Deviation: {np.std(arr)}\")  # Spread of values\n",
    "print(f\"Sum: {np.sum(arr)}\")  # Sum of all elements\n",
    "print(f\"Min: {np.min(arr)}, Max: {np.max(arr)}\")  # Minimum and Maximum\n"
   ]
  },
  {
   "cell_type": "markdown",
   "id": "a0e8e501-1fde-4eac-99a1-3988562b8052",
   "metadata": {},
   "source": [
    "\n",
    "## 📌📂5️⃣ Pandas for Data Analysis\n",
    "### 🔍 What is Pandas?\n",
    "Pandas is **the most powerful library for data manipulation and analysis** in Python. It provides:\n",
    "✔ **DataFrames**: A table-like data structure similar to SQL tables or Excel spreadsheets.  \n",
    "✔ **Efficient Data Handling**: Filtering, sorting, aggregating, and reshaping large datasets.  \n",
    "✔ **Seamless Integration**: Works well with NumPy, Matplotlib, and Scikit-Learn.  \n",
    "\n",
    "### 🔹 Why is Pandas Important in Data Science?\n",
    "✔ **Data Cleaning & Preprocessing**: Handling missing values, duplicates, and outliers.  \n",
    "✔ **Feature Engineering**: Transforming raw data into meaningful insights.  \n",
    "✔ **Data Aggregation & Grouping**: Summarizing and analyzing large datasets efficiently.  \n",
    "\n",
    "### 📌 Common Operations in Pandas\n",
    "#### 📂 1️⃣ Loading and Exploring Data\n",
    "\n"
   ]
  },
  {
   "cell_type": "code",
   "execution_count": 18,
   "id": "1ac0970e-d1b0-4bec-888b-0ec50e029e83",
   "metadata": {},
   "outputs": [
    {
     "name": "stdout",
     "output_type": "stream",
     "text": [
      "   total_bill   tip     sex smoker  day    time  size\n",
      "0       16.99  1.01  Female     No  Sun  Dinner     2\n",
      "1       10.34  1.66    Male     No  Sun  Dinner     3\n",
      "2       21.01  3.50    Male     No  Sun  Dinner     3\n",
      "3       23.68  3.31    Male     No  Sun  Dinner     2\n",
      "4       24.59  3.61  Female     No  Sun  Dinner     4\n",
      "<class 'pandas.core.frame.DataFrame'>\n",
      "RangeIndex: 244 entries, 0 to 243\n",
      "Data columns (total 7 columns):\n",
      " #   Column      Non-Null Count  Dtype  \n",
      "---  ------      --------------  -----  \n",
      " 0   total_bill  244 non-null    float64\n",
      " 1   tip         244 non-null    float64\n",
      " 2   sex         244 non-null    object \n",
      " 3   smoker      244 non-null    object \n",
      " 4   day         244 non-null    object \n",
      " 5   time        244 non-null    object \n",
      " 6   size        244 non-null    int64  \n",
      "dtypes: float64(2), int64(1), object(4)\n",
      "memory usage: 13.5+ KB\n",
      "None\n",
      "       total_bill         tip        size\n",
      "count  244.000000  244.000000  244.000000\n",
      "mean    19.785943    2.998279    2.569672\n",
      "std      8.902412    1.383638    0.951100\n",
      "min      3.070000    1.000000    1.000000\n",
      "25%     13.347500    2.000000    2.000000\n",
      "50%     17.795000    2.900000    2.000000\n",
      "75%     24.127500    3.562500    3.000000\n",
      "max     50.810000   10.000000    6.000000\n"
     ]
    }
   ],
   "source": [
    "import pandas as pd\n",
    "\n",
    "# Load a sample dataset\n",
    "df = pd.read_csv(\"https://raw.githubusercontent.com/mwaskom/seaborn-data/master/tips.csv\")\n",
    "\n",
    "# Display first five rows\n",
    "print(df.head())\n",
    "\n",
    "# Basic dataset info\n",
    "print(df.info())\n",
    "\n",
    "# Summary statistics\n",
    "print(df.describe())\n"
   ]
  },
  {
   "cell_type": "markdown",
   "id": "09cff77b-c3cc-4804-9d48-e7f14f12863b",
   "metadata": {},
   "source": [
    "## **📌 6️⃣ Object-Oriented Programming (OOP)**\n",
    "\n",
    "\n",
    "### **🔍 What is OOP?**\n",
    "Object-Oriented Programming (OOP) **organizes code into reusable objects**. It is useful in:\n",
    "✔ **Machine Learning Pipelines**: Organizing models into reusable classes.  \n",
    "✔ **Scalability**: Helps manage large-scale AI projects.  \n",
    "✔ **Encapsulation**: Bundles related data and functions together.\n",
    "\n",
    "### **🔹 Key Principles of OOP**\n",
    "✔ **Encapsulation** → Bundling data and methods into classes.  \n",
    "✔ **Inheritance** → Creating new classes from existing ones.  \n",
    "✔ **Polymorphism** → Different objects can have the same function name.  \n",
    "\n",
    "---\n",
    "\n",
    "### **📌 Basic OOP Implementation**\n",
    "📜 **1️⃣ Defining a Class & Creating Objects**"
   ]
  },
  {
   "cell_type": "code",
   "execution_count": 20,
   "id": "edc08b3f-2ae2-45da-95c3-8a6f7adc8983",
   "metadata": {},
   "outputs": [
    {
     "name": "stdout",
     "output_type": "stream",
     "text": [
      "Employee: Alice, Salary: $70000\n"
     ]
    }
   ],
   "source": [
    "# Define a Class\n",
    "class Employee:\n",
    "    def __init__(self, name, salary):\n",
    "        self.name = name\n",
    "        self.salary = salary\n",
    "    \n",
    "    def show_details(self):\n",
    "        print(f\"Employee: {self.name}, Salary: ${self.salary}\")\n",
    "\n",
    "# Create an Object\n",
    "emp1 = Employee(\"Alice\", 70000)\n",
    "emp1.show_details()\n"
   ]
  },
  {
   "cell_type": "markdown",
   "id": "2df04be3-0d85-40d4-ad05-0bddc7c5a6ce",
   "metadata": {},
   "source": [
    "# 🔍 Final Comprehensive Project - Employee Salary Analysis\n",
    "## 📌 Overview\n",
    "This project integrates **Python, Pandas, NumPy, and Object-Oriented Programming** into a real-world data processing pipeline.\n",
    "\n",
    "## 🔥 Key Concepts Covered:\n",
    "✔ **Data Handling** - Using Pandas to load and clean datasets.  \n",
    "✔ **Optimized Computation** - NumPy for efficient salary calculations.  \n",
    "✔ **Scalable Code Structure** - OOP to model employee details.  \n",
    "\n",
    "## 🗂 Dataset Description\n",
    "- `employees.csv` → Contains employee names, departments, ages, and salaries.\n",
    "\n"
   ]
  },
  {
   "cell_type": "markdown",
   "id": "2331787b-4ce3-44e8-b402-0748d02fcb5b",
   "metadata": {},
   "source": [
    " 📂 Creating the Employee Dataset"
   ]
  },
  {
   "cell_type": "code",
   "execution_count": 21,
   "id": "13901360-c1f2-42e8-adcc-3a6b6f07c7ff",
   "metadata": {},
   "outputs": [
    {
     "data": {
      "text/html": [
       "<div>\n",
       "<style scoped>\n",
       "    .dataframe tbody tr th:only-of-type {\n",
       "        vertical-align: middle;\n",
       "    }\n",
       "\n",
       "    .dataframe tbody tr th {\n",
       "        vertical-align: top;\n",
       "    }\n",
       "\n",
       "    .dataframe thead th {\n",
       "        text-align: right;\n",
       "    }\n",
       "</style>\n",
       "<table border=\"1\" class=\"dataframe\">\n",
       "  <thead>\n",
       "    <tr style=\"text-align: right;\">\n",
       "      <th></th>\n",
       "      <th>Employee_ID</th>\n",
       "      <th>Name</th>\n",
       "      <th>Department</th>\n",
       "      <th>Age</th>\n",
       "      <th>Salary</th>\n",
       "    </tr>\n",
       "  </thead>\n",
       "  <tbody>\n",
       "    <tr>\n",
       "      <th>0</th>\n",
       "      <td>101</td>\n",
       "      <td>Alice</td>\n",
       "      <td>Engineering</td>\n",
       "      <td>28</td>\n",
       "      <td>70000</td>\n",
       "    </tr>\n",
       "    <tr>\n",
       "      <th>1</th>\n",
       "      <td>102</td>\n",
       "      <td>Bob</td>\n",
       "      <td>Finance</td>\n",
       "      <td>32</td>\n",
       "      <td>65000</td>\n",
       "    </tr>\n",
       "    <tr>\n",
       "      <th>2</th>\n",
       "      <td>103</td>\n",
       "      <td>Charlie</td>\n",
       "      <td>Marketing</td>\n",
       "      <td>29</td>\n",
       "      <td>72000</td>\n",
       "    </tr>\n",
       "    <tr>\n",
       "      <th>3</th>\n",
       "      <td>104</td>\n",
       "      <td>David</td>\n",
       "      <td>HR</td>\n",
       "      <td>35</td>\n",
       "      <td>68000</td>\n",
       "    </tr>\n",
       "    <tr>\n",
       "      <th>4</th>\n",
       "      <td>105</td>\n",
       "      <td>Eve</td>\n",
       "      <td>IT</td>\n",
       "      <td>30</td>\n",
       "      <td>73000</td>\n",
       "    </tr>\n",
       "  </tbody>\n",
       "</table>\n",
       "</div>"
      ],
      "text/plain": [
       "   Employee_ID     Name   Department  Age  Salary\n",
       "0          101    Alice  Engineering   28   70000\n",
       "1          102      Bob      Finance   32   65000\n",
       "2          103  Charlie    Marketing   29   72000\n",
       "3          104    David           HR   35   68000\n",
       "4          105      Eve           IT   30   73000"
      ]
     },
     "execution_count": 21,
     "metadata": {},
     "output_type": "execute_result"
    }
   ],
   "source": [
    "import pandas as pd\n",
    "\n",
    "# Create the dataset\n",
    "data = {\n",
    "    \"Employee_ID\": [101, 102, 103, 104, 105],\n",
    "    \"Name\": [\"Alice\", \"Bob\", \"Charlie\", \"David\", \"Eve\"],\n",
    "    \"Department\": [\"Engineering\", \"Finance\", \"Marketing\", \"HR\", \"IT\"],\n",
    "    \"Age\": [28, 32, 29, 35, 30],\n",
    "    \"Salary\": [70000, 65000, 72000, 68000, 73000]\n",
    "}\n",
    "\n",
    "# Convert to Pandas DataFrame\n",
    "df = pd.DataFrame(data)\n",
    "\n",
    "# Display the dataset\n",
    "df\n"
   ]
  },
  {
   "cell_type": "code",
   "execution_count": 22,
   "id": "85b363e1-0801-4b59-81c2-b53860f40c5f",
   "metadata": {},
   "outputs": [
    {
     "name": "stdout",
     "output_type": "stream",
     "text": [
      "Employee_ID    0\n",
      "Name           0\n",
      "Department     0\n",
      "Age            0\n",
      "Salary         0\n",
      "dtype: int64\n",
      "<class 'pandas.core.frame.DataFrame'>\n",
      "RangeIndex: 5 entries, 0 to 4\n",
      "Data columns (total 5 columns):\n",
      " #   Column       Non-Null Count  Dtype \n",
      "---  ------       --------------  ----- \n",
      " 0   Employee_ID  5 non-null      int64 \n",
      " 1   Name         5 non-null      object\n",
      " 2   Department   5 non-null      object\n",
      " 3   Age          5 non-null      int64 \n",
      " 4   Salary       5 non-null      int64 \n",
      "dtypes: int64(3), object(2)\n",
      "memory usage: 332.0+ bytes\n",
      "None\n",
      "       Employee_ID        Age        Salary\n",
      "count     5.000000   5.000000      5.000000\n",
      "mean    103.000000  30.800000  69600.000000\n",
      "std       1.581139   2.774887   3209.361307\n",
      "min     101.000000  28.000000  65000.000000\n",
      "25%     102.000000  29.000000  68000.000000\n",
      "50%     103.000000  30.000000  70000.000000\n",
      "75%     104.000000  32.000000  72000.000000\n",
      "max     105.000000  35.000000  73000.000000\n"
     ]
    }
   ],
   "source": [
    "# Check for missing values\n",
    "print(df.isnull().sum())\n",
    "\n",
    "# Basic dataset information\n",
    "print(df.info())\n",
    "\n",
    "# Summary statistics\n",
    "print(df.describe())\n"
   ]
  },
  {
   "cell_type": "code",
   "execution_count": 23,
   "id": "e15400fc-bf7a-44e8-971c-9f25a825e374",
   "metadata": {},
   "outputs": [
    {
     "name": "stdout",
     "output_type": "stream",
     "text": [
      "   Employee_ID     Name   Department  Age  Salary\n",
      "4          105      Eve           IT   30   73000\n",
      "2          103  Charlie    Marketing   29   72000\n",
      "0          101    Alice  Engineering   28   70000\n",
      "3          104    David           HR   35   68000\n",
      "1          102      Bob      Finance   32   65000\n",
      "   Employee_ID     Name Department  Age  Salary\n",
      "2          103  Charlie  Marketing   29   72000\n",
      "4          105      Eve         IT   30   73000\n"
     ]
    }
   ],
   "source": [
    "# Sort employees by salary in descending order\n",
    "df_sorted = df.sort_values(by=\"Salary\", ascending=False)\n",
    "print(df_sorted)\n",
    "\n",
    "# Filter employees earning above 70,000\n",
    "high_salary = df[df[\"Salary\"] > 70000]\n",
    "print(high_salary)\n"
   ]
  },
  {
   "cell_type": "markdown",
   "id": "7c79741e-26c6-44dd-bf99-d29bfd07abb3",
   "metadata": {},
   "source": [
    "Using NumPy for Efficient Salary Calculations"
   ]
  },
  {
   "cell_type": "code",
   "execution_count": 24,
   "id": "5708644d-d59b-4c93-ab65-f28ec5ba83cc",
   "metadata": {},
   "outputs": [
    {
     "name": "stdout",
     "output_type": "stream",
     "text": [
      "Average Salary: $69600.00\n",
      "Highest Salary: $73000\n",
      "Lowest Salary: $65000\n"
     ]
    },
    {
     "data": {
      "text/html": [
       "<div>\n",
       "<style scoped>\n",
       "    .dataframe tbody tr th:only-of-type {\n",
       "        vertical-align: middle;\n",
       "    }\n",
       "\n",
       "    .dataframe tbody tr th {\n",
       "        vertical-align: top;\n",
       "    }\n",
       "\n",
       "    .dataframe thead th {\n",
       "        text-align: right;\n",
       "    }\n",
       "</style>\n",
       "<table border=\"1\" class=\"dataframe\">\n",
       "  <thead>\n",
       "    <tr style=\"text-align: right;\">\n",
       "      <th></th>\n",
       "      <th>Employee_ID</th>\n",
       "      <th>Name</th>\n",
       "      <th>Department</th>\n",
       "      <th>Age</th>\n",
       "      <th>Salary</th>\n",
       "      <th>Updated_Salary</th>\n",
       "    </tr>\n",
       "  </thead>\n",
       "  <tbody>\n",
       "    <tr>\n",
       "      <th>0</th>\n",
       "      <td>101</td>\n",
       "      <td>Alice</td>\n",
       "      <td>Engineering</td>\n",
       "      <td>28</td>\n",
       "      <td>70000</td>\n",
       "      <td>77000.0</td>\n",
       "    </tr>\n",
       "    <tr>\n",
       "      <th>1</th>\n",
       "      <td>102</td>\n",
       "      <td>Bob</td>\n",
       "      <td>Finance</td>\n",
       "      <td>32</td>\n",
       "      <td>65000</td>\n",
       "      <td>71500.0</td>\n",
       "    </tr>\n",
       "    <tr>\n",
       "      <th>2</th>\n",
       "      <td>103</td>\n",
       "      <td>Charlie</td>\n",
       "      <td>Marketing</td>\n",
       "      <td>29</td>\n",
       "      <td>72000</td>\n",
       "      <td>79200.0</td>\n",
       "    </tr>\n",
       "    <tr>\n",
       "      <th>3</th>\n",
       "      <td>104</td>\n",
       "      <td>David</td>\n",
       "      <td>HR</td>\n",
       "      <td>35</td>\n",
       "      <td>68000</td>\n",
       "      <td>74800.0</td>\n",
       "    </tr>\n",
       "    <tr>\n",
       "      <th>4</th>\n",
       "      <td>105</td>\n",
       "      <td>Eve</td>\n",
       "      <td>IT</td>\n",
       "      <td>30</td>\n",
       "      <td>73000</td>\n",
       "      <td>80300.0</td>\n",
       "    </tr>\n",
       "  </tbody>\n",
       "</table>\n",
       "</div>"
      ],
      "text/plain": [
       "   Employee_ID     Name   Department  Age  Salary  Updated_Salary\n",
       "0          101    Alice  Engineering   28   70000         77000.0\n",
       "1          102      Bob      Finance   32   65000         71500.0\n",
       "2          103  Charlie    Marketing   29   72000         79200.0\n",
       "3          104    David           HR   35   68000         74800.0\n",
       "4          105      Eve           IT   30   73000         80300.0"
      ]
     },
     "execution_count": 24,
     "metadata": {},
     "output_type": "execute_result"
    }
   ],
   "source": [
    "import numpy as np\n",
    "\n",
    "# Convert salaries to NumPy array\n",
    "salaries = df[\"Salary\"].values\n",
    "\n",
    "# Compute mean salary\n",
    "mean_salary = np.mean(salaries)\n",
    "print(f\"Average Salary: ${mean_salary:.2f}\")\n",
    "\n",
    "# Compute highest & lowest salary\n",
    "max_salary = np.max(salaries)\n",
    "min_salary = np.min(salaries)\n",
    "\n",
    "print(f\"Highest Salary: ${max_salary}\")\n",
    "print(f\"Lowest Salary: ${min_salary}\")\n",
    "\n",
    "# Apply a 10% salary increase using NumPy broadcasting\n",
    "df[\"Updated_Salary\"] = salaries * 1.1\n",
    "df\n"
   ]
  },
  {
   "cell_type": "code",
   "execution_count": 25,
   "id": "5c46ed1d-a87e-4013-bcbf-938aabe6ed4e",
   "metadata": {},
   "outputs": [],
   "source": [
    "# Define an Employee class\n",
    "class Employee:\n",
    "    def __init__(self, emp_id, name, department, age, salary):\n",
    "        self.emp_id = emp_id\n",
    "        self.name = name\n",
    "        self.department = department\n",
    "        self.age = age\n",
    "        self.salary = salary\n",
    "    \n",
    "    def display_info(self):\n",
    "        print(f\"Employee {self.name} (ID: {self.emp_id}) works in {self.department} earning ${self.salary}.\")\n",
    "    \n",
    "    def apply_bonus(self, percentage):\n",
    "        self.salary *= (1 + percentage / 100)\n",
    "        print(f\"New Salary for {self.name}: ${self.salary:.2f}\")\n"
   ]
  },
  {
   "cell_type": "code",
   "execution_count": 26,
   "id": "878ce8af-5b0c-4002-bc16-7d0ffc242194",
   "metadata": {},
   "outputs": [
    {
     "name": "stdout",
     "output_type": "stream",
     "text": [
      "Employee Alice (ID: 101) works in Engineering earning $70000.\n",
      "Employee Bob (ID: 102) works in Finance earning $65000.\n",
      "New Salary for Alice: $77000.00\n",
      "New Salary for Bob: $68250.00\n"
     ]
    }
   ],
   "source": [
    "# Create employee instances\n",
    "emp1 = Employee(101, \"Alice\", \"Engineering\", 28, 70000)\n",
    "emp2 = Employee(102, \"Bob\", \"Finance\", 32, 65000)\n",
    "\n",
    "# Display employee info\n",
    "emp1.display_info()\n",
    "emp2.display_info()\n",
    "\n",
    "# Apply 10% bonus\n",
    "emp1.apply_bonus(10)\n",
    "emp2.apply_bonus(5)\n"
   ]
  },
  {
   "cell_type": "code",
   "execution_count": null,
   "id": "c62002e6-4719-4ac2-bf18-8d5ab8c276ec",
   "metadata": {},
   "outputs": [],
   "source": []
  }
 ],
 "metadata": {
  "kernelspec": {
   "display_name": "Python 3 (ipykernel)",
   "language": "python",
   "name": "python3"
  },
  "language_info": {
   "codemirror_mode": {
    "name": "ipython",
    "version": 3
   },
   "file_extension": ".py",
   "mimetype": "text/x-python",
   "name": "python",
   "nbconvert_exporter": "python",
   "pygments_lexer": "ipython3",
   "version": "3.11.5"
  }
 },
 "nbformat": 4,
 "nbformat_minor": 5
}
